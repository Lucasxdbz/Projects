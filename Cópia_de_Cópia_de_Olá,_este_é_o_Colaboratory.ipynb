{
  "cells": [
    {
      "cell_type": "markdown",
      "metadata": {
        "id": "view-in-github",
        "colab_type": "text"
      },
      "source": [
        "<a href=\"https://colab.research.google.com/github/Lucasxdbz/Projects/blob/main/C%C3%B3pia_de_C%C3%B3pia_de_Ol%C3%A1%2C_este_%C3%A9_o_Colaboratory.ipynb\" target=\"_parent\"><img src=\"https://colab.research.google.com/assets/colab-badge.svg\" alt=\"Open In Colab\"/></a>"
      ]
    },
    {
      "cell_type": "code",
      "source": [
        "a = 5\n",
        "b = 3\n",
        "print(a, b)\n",
        "\n",
        "a + b\n",
        "print('A soma é', a + b)\n",
        "\n",
        "print('A subtração é', a - b)\n",
        "\n",
        "print('A divisão é', a / b)\n",
        "\n",
        "print('A multiplicação é', a * b)\n",
        "\n",
        "print('O resto da divisão é', 10 % 3)\n",
        "\n",
        "5 * 5 * 5 * 5\n",
        "\n",
        "print('5 elevado a 4 é', 5**4)\n",
        "import math\n",
        "math.sqrt(81)\n",
        "\n"
      ],
      "metadata": {
        "colab": {
          "base_uri": "https://localhost:8080/"
        },
        "id": "CkrTDVDZCjvG",
        "outputId": "4c025714-015f-4506-8af6-674963433980"
      },
      "execution_count": null,
      "outputs": [
        {
          "output_type": "stream",
          "name": "stdout",
          "text": [
            "5 3\n",
            "A soma é 8\n",
            "A subtração é 2\n",
            "A divisão é 1.6666666666666667\n",
            "A multiplicação é 15\n",
            "O resto da divisão é 1\n",
            "5 elevado a 4 é 625\n"
          ]
        },
        {
          "output_type": "execute_result",
          "data": {
            "text/plain": [
              "9.0"
            ]
          },
          "metadata": {},
          "execution_count": 20
        }
      ]
    },
    {
      "cell_type": "code",
      "source": [
        "casos_doença_vass = 1430\n",
        "numero_habitantes_vass = 347153\n",
        "casos_por_habitantes = casos_doença_vass / numero_habitantes_vass\n",
        "print(casos_por_habitantes)\n",
        "\n",
        "round(casos_por_habitantes, 6)\n",
        "\n",
        "print('O numero de casos por habitantes é de', round(casos_por_habitantes, 4))\n",
        "\n"
      ],
      "metadata": {
        "colab": {
          "base_uri": "https://localhost:8080/"
        },
        "id": "VAi1_mkjDv5H",
        "outputId": "fa3f17a6-a266-4d7c-bd35-e1ef14ca20f7"
      },
      "execution_count": null,
      "outputs": [
        {
          "output_type": "stream",
          "name": "stdout",
          "text": [
            "0.004119221207940015\n",
            "O numero de casos por habitantes é de 0.0041\n"
          ]
        }
      ]
    },
    {
      "cell_type": "code",
      "source": [],
      "metadata": {
        "id": "byI84OnRHl_Z"
      },
      "execution_count": null,
      "outputs": []
    },
    {
      "cell_type": "markdown",
      "source": [
        "Round serve para aproximação\n",
        "\n",
        "float numero com virgula\n",
        "\n",
        "int numero inteiro\n",
        "\n",
        "um sinal de = atribuição\n",
        "\n",
        "dois sinais de = comparação\n",
        "\n"
      ],
      "metadata": {
        "id": "MlcxyRpGHeDp"
      }
    },
    {
      "cell_type": "markdown",
      "source": [
        "1 Ler dois números inteiros, executar e mostrar o resultado das seguintes operações: adição, subtração, multiplicação, divisão e potenciação do primeiro elevado ao segundo número.\n",
        "\n",
        "2 Efetuar o cálculo da quantidade de litros de combustível gasto em uma viagem, utilizando um automóvel que faz 12 km por litro. Para obter o cálculo, o usuário deve fornecer o tempo gasto na viagem e a velocidade média durante ela. desta forma, será possível obter a distância percorrida com a fórmula DISTANCIA = TEMPO * VELOCIDADE. Tendo o valor da distância, basta calcular a quantidade de litros de combustìvel utilizado na viagem, com a fórmula: LITROS_USADOS = DISTANCIA / 12. O progama deve apresentar os valores da velocidade média, tempo gasto na viagem, a distância percorrida e a quantidade de litros utilizadas na viagem"
      ],
      "metadata": {
        "id": "n-Z0-NGeJ8Fs"
      }
    },
    {
      "cell_type": "code",
      "source": [
        "numero1 = int(input(\"Digite o primeiro número: \"))\n",
        "numero2 = int(input(\"Digite o segundo número \"))\n"
      ],
      "metadata": {
        "id": "1GfFNDTsOxxG"
      },
      "execution_count": null,
      "outputs": []
    },
    {
      "cell_type": "code",
      "source": [
        "\n",
        "tempo = float(input(\"Informe o tempo gasto na viagem (em horas): \"))\n",
        "\n",
        "velocidade = float(input(\"Informe a velocidade média (em km/h): \"))\n",
        "\n",
        "distancia = tempo * velocidade\n",
        "\n",
        "litros_usados = distancia / 12\n",
        "\n",
        "\n",
        "print(\"Velocidade média: \", velocidade)\n",
        "\n",
        "print(\"Tempo gasto na viagem: \", tempo)\n",
        "\n",
        "print(\"Distância percorrida:\", distancia)\n",
        "\n",
        "print(\"Quantidade de Litros:\", round(litros_usados, 1))"
      ],
      "metadata": {
        "colab": {
          "base_uri": "https://localhost:8080/"
        },
        "id": "zFK3W6ZdLqed",
        "outputId": "0425dee0-3dab-48cd-f918-a7ecc824502a"
      },
      "execution_count": null,
      "outputs": [
        {
          "output_type": "stream",
          "name": "stdout",
          "text": [
            "Informe o tempo gasto na viagem (em horas): 10\n",
            "Informe a velocidade média (em km/h): 20\n",
            "Velocidade média:  20.0\n",
            "Tempo gasto na viagem:  10.0\n",
            "Distância percorrida: 200.0\n",
            "Quantidade de Litros: 16.7\n"
          ]
        }
      ]
    },
    {
      "cell_type": "markdown",
      "source": [
        "Operadores Lógicos e relacionais\n",
        "\n",
        "Operadores lógicos"
      ],
      "metadata": {
        "id": "U6yQ9xvWSKxQ"
      }
    },
    {
      "cell_type": "code",
      "source": [
        "a = True\n",
        "b = False\n",
        "\n",
        "print(a, b)\n",
        "\n",
        "a and b\n",
        "\n",
        "\n",
        "c = a and b\n",
        "print(\"'A' e 'B' são iguais é\", c)\n",
        "\n",
        "a or b\n",
        "\n",
        "\n",
        "d = a or b\n",
        "print(\"'A' ou 'B' é igual a\", d)\n",
        "not a\n",
        "not b"
      ],
      "metadata": {
        "colab": {
          "base_uri": "https://localhost:8080/"
        },
        "id": "J2vcjx_rSMv_",
        "outputId": "05f8d112-53f0-4c81-85a1-d9efc1f63915"
      },
      "execution_count": null,
      "outputs": [
        {
          "output_type": "stream",
          "name": "stdout",
          "text": [
            "True False\n",
            "'A' e 'B' são iguais é False\n",
            "'A' ou 'B' é igual a True\n"
          ]
        },
        {
          "output_type": "execute_result",
          "data": {
            "text/plain": [
              "True"
            ]
          },
          "metadata": {},
          "execution_count": 54
        }
      ]
    },
    {
      "cell_type": "markdown",
      "source": [
        "Operadores relacionais"
      ],
      "metadata": {
        "id": "cG2GFYbwZfNa"
      }
    },
    {
      "cell_type": "code",
      "source": [
        "5 > 3"
      ],
      "metadata": {
        "colab": {
          "base_uri": "https://localhost:8080/"
        },
        "id": "5XnKSBSkZJFZ",
        "outputId": "a5368785-475a-4f98-b9be-873b69905e8b"
      },
      "execution_count": null,
      "outputs": [
        {
          "output_type": "execute_result",
          "data": {
            "text/plain": [
              "True"
            ]
          },
          "metadata": {},
          "execution_count": 57
        }
      ]
    },
    {
      "cell_type": "code",
      "source": [
        "5 != 3"
      ],
      "metadata": {
        "colab": {
          "base_uri": "https://localhost:8080/"
        },
        "id": "xER2tCk4ZUe6",
        "outputId": "d0491fbd-0db3-4436-9404-5a9675ee0cda"
      },
      "execution_count": null,
      "outputs": [
        {
          "output_type": "execute_result",
          "data": {
            "text/plain": [
              "True"
            ]
          },
          "metadata": {},
          "execution_count": 58
        }
      ]
    },
    {
      "cell_type": "code",
      "source": [
        "5 < 3"
      ],
      "metadata": {
        "colab": {
          "base_uri": "https://localhost:8080/"
        },
        "id": "ZCpOFT4_ZQly",
        "outputId": "5f7c69a6-0fd7-491e-baa9-7e6cf12598c3"
      },
      "execution_count": null,
      "outputs": [
        {
          "output_type": "execute_result",
          "data": {
            "text/plain": [
              "False"
            ]
          },
          "metadata": {},
          "execution_count": 59
        }
      ]
    },
    {
      "cell_type": "code",
      "source": [
        "5 >= 5"
      ],
      "metadata": {
        "colab": {
          "base_uri": "https://localhost:8080/"
        },
        "id": "Sra9JcQNZR4C",
        "outputId": "8ec15676-3e7f-456c-d78d-08b37d58ca4a"
      },
      "execution_count": null,
      "outputs": [
        {
          "output_type": "execute_result",
          "data": {
            "text/plain": [
              "True"
            ]
          },
          "metadata": {},
          "execution_count": 60
        }
      ]
    },
    {
      "cell_type": "code",
      "source": [
        "5 <= 3\n"
      ],
      "metadata": {
        "colab": {
          "base_uri": "https://localhost:8080/"
        },
        "id": "u0QUqJ6uZSrK",
        "outputId": "93a2aa98-7577-49ef-ca0c-12ee2bc43a3a"
      },
      "execution_count": null,
      "outputs": [
        {
          "output_type": "execute_result",
          "data": {
            "text/plain": [
              "False"
            ]
          },
          "metadata": {},
          "execution_count": 61
        }
      ]
    },
    {
      "cell_type": "code",
      "source": [
        "5 == 3\n"
      ],
      "metadata": {
        "colab": {
          "base_uri": "https://localhost:8080/"
        },
        "id": "0KMb4V7zZTgJ",
        "outputId": "407586b4-30b0-45e8-8046-e4edf1844a57"
      },
      "execution_count": null,
      "outputs": [
        {
          "output_type": "execute_result",
          "data": {
            "text/plain": [
              "False"
            ]
          },
          "metadata": {},
          "execution_count": 62
        }
      ]
    },
    {
      "cell_type": "markdown",
      "source": [
        "Operadores condicional"
      ],
      "metadata": {
        "id": "wkt0MbV1abEq"
      }
    },
    {
      "cell_type": "code",
      "source": [
        "5 > 3"
      ],
      "metadata": {
        "id": "vgHC4X3wag0r"
      },
      "execution_count": null,
      "outputs": []
    },
    {
      "cell_type": "code",
      "source": [
        "if 5 > 3:\n",
        "    print(\"5 É maior que 3\")\n"
      ],
      "metadata": {
        "colab": {
          "base_uri": "https://localhost:8080/"
        },
        "id": "dUE12ycqajni",
        "outputId": "7bce5b4c-bc50-43d8-8e5f-39d5bf89c3e4"
      },
      "execution_count": null,
      "outputs": [
        {
          "output_type": "stream",
          "name": "stdout",
          "text": [
            "5 É maior que 3\n"
          ]
        }
      ]
    },
    {
      "cell_type": "code",
      "source": [
        "if 5 > 4:\n",
        "    print(\"5 é maior\")\n",
        "else:\n",
        "    print(\"5 não é maior\")\n"
      ],
      "metadata": {
        "colab": {
          "base_uri": "https://localhost:8080/"
        },
        "id": "Hri_qKHyavAy",
        "outputId": "46d033dc-b8d9-444d-d023-dd7018d9694b"
      },
      "execution_count": null,
      "outputs": [
        {
          "output_type": "stream",
          "name": "stdout",
          "text": [
            "5 é maior\n"
          ]
        }
      ]
    },
    {
      "cell_type": "code",
      "source": [
        "n = 9\n",
        "if n == 4:\n",
        "    print(\"n é igual a 4\")\n",
        "else:\n",
        "    if n == 3:\n",
        "        print(\"n é igual a 3\")\n",
        "    else:\n",
        "        print(\"n não é igual a 4 nem 3 \")\n"
      ],
      "metadata": {
        "colab": {
          "base_uri": "https://localhost:8080/"
        },
        "id": "9GsBNSbfbifa",
        "outputId": "6f6cfc67-9030-4f2d-ca71-b327de447b40"
      },
      "execution_count": null,
      "outputs": [
        {
          "output_type": "stream",
          "name": "stdout",
          "text": [
            "n não é igual a 4 nem 3 \n"
          ]
        }
      ]
    },
    {
      "cell_type": "code",
      "source": [
        "idade = int(input(\"Digite sua idade: \"))\n",
        "\n",
        "if idade < 0:\n",
        "    print(\"Idade inválida\")\n",
        "elif idade <= 12:\n",
        "    print(\"Criança\")\n",
        "elif idade <= 17:\n",
        "    print(\"Adolescente\")\n",
        "else:\n",
        "    print(\"Adulto\")"
      ],
      "metadata": {
        "colab": {
          "base_uri": "https://localhost:8080/"
        },
        "id": "l_S7SZXzdfv8",
        "outputId": "23eabd02-8f8c-4bf6-b9a9-c68f378e9eee"
      },
      "execution_count": null,
      "outputs": [
        {
          "output_type": "stream",
          "name": "stdout",
          "text": [
            "Digite sua idade: -8\n",
            "Idade inválida\n"
          ]
        }
      ]
    },
    {
      "cell_type": "markdown",
      "source": [
        "1. Leia a idade do usuário de classifique-o em:\n",
        "- Criança - 0 a 12 anos\n",
        "- Adolescente - 13 a 17 anos\n",
        "- Adulto - acima de 18 anos\n",
        "- Se o usuário digitar um número negativo, mostrar a mensagem que a idade é inválida"
      ],
      "metadata": {
        "id": "RkPsj2O9cwvc"
      }
    },
    {
      "cell_type": "markdown",
      "source": [
        "2. Calcular a média de um aluno cursou a disciplina de Progamação I, a partir da leitura das notas N1, N2 e N3; passando por um cálculo da média aritimética.Após a média calculada, devemos anuciar se o aluno foi aprovado, reporvado ou pegou exame.\n",
        "\n",
        "\n",
        "*   Se a média estiver entre 0.0 e 4.0, o aluno está reprovado\n",
        "*   Se a média estiver entre 4.1 e 6.0, o aluno pegou exame\n",
        "*   Se a média for maior do que 6.0, o alunoo está aprovado\n",
        "*   Se o aluno pegou exame, deve ser lida a nota do exame. Se a nota do exame for maior do que 6.0, está aprovado, senão; está reprovado.\n",
        "\n",
        "\n",
        "\n",
        "\n"
      ],
      "metadata": {
        "id": "dvptokMTEdUI"
      }
    },
    {
      "cell_type": "code",
      "source": [
        "\n",
        "\n",
        "media = (n1 + n2 + n3) / 3\n",
        "\n",
        "if media <= 4.0:\n",
        "     print(\"Reprovado\")\n",
        "\n",
        "elif 4.1 >= media <= 6.0:\n",
        "    print(\"Aluno pegou exame. Informe a nota do exame:\")\n",
        "if media >= 6.0:\n",
        "            print(\"Aprovado\")\n"
      ],
      "metadata": {
        "id": "-PV8cdWoFDxJ"
      },
      "execution_count": null,
      "outputs": []
    },
    {
      "cell_type": "code",
      "source": [
        "for numero in range(1, 17):\n",
        "    print(numero)"
      ],
      "metadata": {
        "colab": {
          "base_uri": "https://localhost:8080/"
        },
        "collapsed": true,
        "id": "wqnbapCCJ4kX",
        "outputId": "ec773a26-6918-41d4-9dfc-51e38870e64a"
      },
      "execution_count": null,
      "outputs": [
        {
          "output_type": "stream",
          "name": "stdout",
          "text": [
            "1\n",
            "2\n",
            "3\n",
            "4\n",
            "5\n",
            "6\n",
            "7\n",
            "8\n",
            "9\n",
            "10\n",
            "11\n",
            "12\n",
            "13\n",
            "14\n",
            "15\n",
            "16\n"
          ]
        }
      ]
    },
    {
      "cell_type": "code",
      "source": [
        "for numero in range(10, 0, -1):\n",
        "    print(numero)"
      ],
      "metadata": {
        "colab": {
          "base_uri": "https://localhost:8080/"
        },
        "collapsed": true,
        "id": "E7JeLhm3KMdf",
        "outputId": "4d475062-8454-42c3-b565-f75c4408a765"
      },
      "execution_count": null,
      "outputs": [
        {
          "output_type": "stream",
          "name": "stdout",
          "text": [
            "10\n",
            "9\n",
            "8\n",
            "7\n",
            "6\n",
            "5\n",
            "4\n",
            "3\n",
            "2\n",
            "1\n"
          ]
        }
      ]
    },
    {
      "cell_type": "code",
      "source": [
        "soma = 0\n",
        "for numero in range(1, 10):\n",
        "    soma = soma + numero\n",
        "    print(soma)"
      ],
      "metadata": {
        "colab": {
          "base_uri": "https://localhost:8080/"
        },
        "collapsed": true,
        "id": "1X6PBjlmKllN",
        "outputId": "b419d276-3378-49fe-d50b-86fa7ecead6b"
      },
      "execution_count": null,
      "outputs": [
        {
          "output_type": "stream",
          "name": "stdout",
          "text": [
            "1\n",
            "3\n",
            "6\n",
            "10\n",
            "15\n",
            "21\n",
            "28\n",
            "36\n",
            "45\n"
          ]
        }
      ]
    },
    {
      "cell_type": "code",
      "source": [
        "palavra =\"futebol\"\n",
        "for letra in palavra:\n",
        "    print(letra)\n",
        "    if letra == \"t\":\n",
        "        print(\"Achou a letra t\")\n"
      ],
      "metadata": {
        "colab": {
          "base_uri": "https://localhost:8080/"
        },
        "collapsed": true,
        "id": "v54iwog6LUix",
        "outputId": "264ddc0f-c45a-4d3a-bdac-5bf5043c7510"
      },
      "execution_count": null,
      "outputs": [
        {
          "output_type": "stream",
          "name": "stdout",
          "text": [
            "f\n",
            "u\n",
            "t\n",
            "Achou a letra t\n",
            "e\n",
            "b\n",
            "o\n",
            "l\n"
          ]
        }
      ]
    },
    {
      "cell_type": "code",
      "source": [
        "for i in range(0, 5):\n",
        "     print(i)\n",
        "     print(\"---\")\n",
        "     for j in range(0, 3):\n",
        "         print(j)\n",
        "     print()"
      ],
      "metadata": {
        "colab": {
          "base_uri": "https://localhost:8080/"
        },
        "collapsed": true,
        "id": "tr2tesMSL0fm",
        "outputId": "78cb8f3c-3323-44df-d857-a32ee9e9b849"
      },
      "execution_count": null,
      "outputs": [
        {
          "output_type": "stream",
          "name": "stdout",
          "text": [
            "0\n",
            "---\n",
            "0\n",
            "1\n",
            "2\n",
            "\n",
            "1\n",
            "---\n",
            "0\n",
            "1\n",
            "2\n",
            "\n",
            "2\n",
            "---\n",
            "0\n",
            "1\n",
            "2\n",
            "\n",
            "3\n",
            "---\n",
            "0\n",
            "1\n",
            "2\n",
            "\n",
            "4\n",
            "---\n",
            "0\n",
            "1\n",
            "2\n",
            "\n"
          ]
        }
      ]
    },
    {
      "cell_type": "code",
      "source": [
        "numero = 1\n",
        "while numero < 6:\n",
        "    print(numero)\n",
        "    numero = numero + 1\n",
        "    print(\"---\")"
      ],
      "metadata": {
        "colab": {
          "base_uri": "https://localhost:8080/"
        },
        "collapsed": true,
        "id": "FGCU5aTcMqjS",
        "outputId": "29673bbb-855e-44e0-9b45-af9a204c5bd6"
      },
      "execution_count": null,
      "outputs": [
        {
          "output_type": "stream",
          "name": "stdout",
          "text": [
            "1\n",
            "---\n",
            "2\n",
            "---\n",
            "3\n",
            "---\n",
            "4\n",
            "---\n",
            "5\n",
            "---\n"
          ]
        }
      ]
    },
    {
      "cell_type": "code",
      "source": [
        "soma = 0\n",
        "numero = 1\n",
        "while numero < 6:\n",
        "    soma += numero\n",
        "    numero += 1\n",
        "print(soma)"
      ],
      "metadata": {
        "colab": {
          "base_uri": "https://localhost:8080/"
        },
        "id": "kPH_HekpPAhT",
        "outputId": "78240cb8-28e4-47b7-d3c2-acea19b2046a"
      },
      "execution_count": null,
      "outputs": [
        {
          "output_type": "stream",
          "name": "stdout",
          "text": [
            "15\n",
            "-GBVIRUS ADOVI--\n"
          ]
        }
      ]
    },
    {
      "cell_type": "code",
      "source": [
        "numero = 12\n",
        "while numero < 1 or numero > 10:\n",
        "    numero = int(input(\"Digite o número de 1 a 10: \"))"
      ],
      "metadata": {
        "colab": {
          "base_uri": "https://localhost:8080/"
        },
        "id": "1aRaYxDePoNj",
        "outputId": "36d008d0-91bc-4a05-9ad7-49bcf75ed999"
      },
      "execution_count": null,
      "outputs": [
        {
          "name": "stdout",
          "output_type": "stream",
          "text": [
            "Digite o número de 1 a 10: 7\n"
          ]
        }
      ]
    },
    {
      "cell_type": "code",
      "source": [
        "notas = []\n",
        "for i in range(5):\n",
        "    nota = float(input(\"Digite a nota {}: \".format(i+1)))\n",
        "    notas.append(nota)\n",
        "\n",
        "media = sum(notas) / len(notas)\n",
        "print(\"A média das notas é:\", media)\n",
        "\n",
        "\n",
        "\n",
        "notas = []\n",
        "contador = 0\n",
        "while contador < 5:\n",
        "    nota = float(input(\"Digite a nota {}: \".format(contador+1)))\n",
        "    notas.append(nota)\n",
        "    contador += 1\n",
        "\n",
        "media = sum(notas) / len(notas)\n",
        "print(\"A média das notas é:\", media)"
      ],
      "metadata": {
        "id": "9sZVDtPjQnIV"
      },
      "execution_count": null,
      "outputs": []
    }
  ],
  "metadata": {
    "colab": {
      "provenance": [],
      "include_colab_link": true
    },
    "kernelspec": {
      "display_name": "Python 3",
      "name": "python3"
    }
  },
  "nbformat": 4,
  "nbformat_minor": 0
}